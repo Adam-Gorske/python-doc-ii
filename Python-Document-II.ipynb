{
 "cells": [
  {
   "cell_type": "markdown",
   "metadata": {},
   "source": [
    "# Functions, Scoping, Data Collections 1 & List Comprehensions"
   ]
  },
  {
   "cell_type": "markdown",
   "metadata": {},
   "source": [
    "## Tasks Today:\n",
    "\n",
    "<i>Monday Additions (or, and ... if statements)</i>\n",
    "\n",
    "1) String Manipulation <br>\n",
    " &nbsp;&nbsp;&nbsp;&nbsp; a) strip() <br>\n",
    " &nbsp;&nbsp;&nbsp;&nbsp; b) title() <br>\n",
    "2) Working With Lists <br>\n",
    " &nbsp;&nbsp;&nbsp;&nbsp; a) min() <br>\n",
    " &nbsp;&nbsp;&nbsp;&nbsp; b) max() <br>\n",
    " &nbsp;&nbsp;&nbsp;&nbsp; c) sum() <br>\n",
    " &nbsp;&nbsp;&nbsp;&nbsp; d) sort() <br>\n",
    " &nbsp;&nbsp;&nbsp;&nbsp; e) Copying a List <br>\n",
    " &nbsp;&nbsp;&nbsp;&nbsp; f) 'in' keyword <br>\n",
    " &nbsp;&nbsp;&nbsp;&nbsp; g) 'not in' keyword <br>\n",
    " &nbsp;&nbsp;&nbsp;&nbsp; i) Checking an Empty List <br>\n",
    " &nbsp;&nbsp;&nbsp;&nbsp; j) Removing Instances with a Loop <br>\n",
    "3) List Comprehensions <br>\n",
    "4) Tuples <br>\n",
    " &nbsp;&nbsp;&nbsp;&nbsp; a) sorted() <br>\n",
    "5) Functions <br>\n",
    " &nbsp;&nbsp;&nbsp;&nbsp; a) User-Defined vs. Built-In Functions <br>\n",
    " &nbsp;&nbsp;&nbsp;&nbsp; b) Accepting Parameters <br>\n",
    " &nbsp;&nbsp;&nbsp;&nbsp; c) Default Parameters <br>\n",
    " &nbsp;&nbsp;&nbsp;&nbsp; d) Making an Argument Optional <br>\n",
    " &nbsp;&nbsp;&nbsp;&nbsp; e) Keyword Arguments <br>\n",
    " &nbsp;&nbsp;&nbsp;&nbsp; f) Returning Values <br>\n",
    " &nbsp;&nbsp;&nbsp;&nbsp; g) *args <br>\n",
    " &nbsp;&nbsp;&nbsp;&nbsp; h) Docstring <br>\n",
    " &nbsp;&nbsp;&nbsp;&nbsp; i) Using a User Function in a Loop <br>\n",
    "6) Scope"
   ]
  },
  {
   "cell_type": "markdown",
   "metadata": {},
   "source": [
    "### String Manipulation"
   ]
  },
  {
   "cell_type": "markdown",
   "metadata": {},
   "source": [
    "##### .lstrip()"
   ]
  },
  {
   "cell_type": "code",
   "execution_count": 34,
   "metadata": {},
   "outputs": [
    {
     "name": "stdout",
     "output_type": "stream",
     "text": [
      "ohn Smith\n"
     ]
    }
   ],
   "source": [
    "# string.lstrip()\n",
    "# strip something from the left side of the string\n",
    "# add what you want stripped between quotes, can strip multiple items\n",
    "\n",
    "name = \"          hJohn Smith\"\n",
    "stripped_name = name.lstrip(\" \" \"h\" \"J\")\n",
    "print(stripped_name)"
   ]
  },
  {
   "cell_type": "markdown",
   "metadata": {},
   "source": [
    "##### .rstrip()"
   ]
  },
  {
   "cell_type": "code",
   "execution_count": 36,
   "metadata": {},
   "outputs": [
    {
     "name": "stdout",
     "output_type": "stream",
     "text": [
      "Bob Marley\n"
     ]
    }
   ],
   "source": [
    "# string.rstrip()\n",
    "# same as lstrip, but on the right side\n",
    "\n",
    "name = \"Bob Marley      sdfs\"\n",
    "stripped_name = name.rstrip(\"sdfs\" \" \")\n",
    "print(stripped_name)"
   ]
  },
  {
   "cell_type": "markdown",
   "metadata": {},
   "source": [
    "##### .strip()"
   ]
  },
  {
   "cell_type": "code",
   "execution_count": 39,
   "metadata": {},
   "outputs": [
    {
     "name": "stdout",
     "output_type": "stream",
     "text": [
      "John Smith\n"
     ]
    }
   ],
   "source": [
    "# string.strip()\n",
    "# strips from both side\n",
    "\n",
    "name = \"sdf  John Smith     sdf\"\n",
    "stripped_name = name.strip(\"sdf\" \" \")\n",
    "print(stripped_name)"
   ]
  },
  {
   "cell_type": "markdown",
   "metadata": {},
   "source": [
    "##### .title()"
   ]
  },
  {
   "cell_type": "code",
   "execution_count": 41,
   "metadata": {},
   "outputs": [
    {
     "name": "stdout",
     "output_type": "stream",
     "text": [
      "Barack Obama\n"
     ]
    }
   ],
   "source": [
    "# string.title()\n",
    "# capitalizes first letter of each word\n",
    "\n",
    "president = \"barack obama\"\n",
    "print(president.title())\n"
   ]
  },
  {
   "cell_type": "markdown",
   "metadata": {},
   "source": [
    "##### .upper()"
   ]
  },
  {
   "cell_type": "code",
   "execution_count": 52,
   "metadata": {},
   "outputs": [
    {
     "name": "stdout",
     "output_type": "stream",
     "text": [
      "BARACK OBAMA\n"
     ]
    }
   ],
   "source": [
    "# string.upper()\n",
    "# capitalizes all letters\n",
    "\n",
    "president = \"barack obama\"\n",
    "print(president.upper())"
   ]
  },
  {
   "cell_type": "markdown",
   "metadata": {},
   "source": [
    "##### .lower()"
   ]
  },
  {
   "cell_type": "code",
   "execution_count": 54,
   "metadata": {},
   "outputs": [
    {
     "name": "stdout",
     "output_type": "stream",
     "text": [
      "barack obama\n"
     ]
    }
   ],
   "source": [
    "# string.upper()\n",
    "# lower-cases all letters\n",
    "\n",
    "president = \"Barack Obama\"\n",
    "print(president.lower())"
   ]
  },
  {
   "cell_type": "markdown",
   "metadata": {},
   "source": [
    "### String Exercise <br>\n",
    "<p>Strip all white space and capitalize every name in the list given</p>"
   ]
  },
  {
   "cell_type": "code",
   "execution_count": 60,
   "metadata": {},
   "outputs": [
    {
     "name": "stdout",
     "output_type": "stream",
     "text": [
      "CONNOR\n",
      "MAX\n",
      "EVAN\n",
      "JORDAN\n"
     ]
    }
   ],
   "source": [
    "names = ['    coNNor', 'max', ' EVan ', 'JORDAN']\n",
    "# HINT: You will need to use a for loop for iteration\n",
    "\n",
    "for name in names:\n",
    "    name = name.strip().upper()\n",
    "    print(name)\n",
    "\n"
   ]
  },
  {
   "cell_type": "markdown",
   "metadata": {},
   "source": [
    "### Working With Lists"
   ]
  },
  {
   "cell_type": "markdown",
   "metadata": {},
   "source": [
    "##### min()"
   ]
  },
  {
   "cell_type": "code",
   "execution_count": 61,
   "metadata": {},
   "outputs": [
    {
     "name": "stdout",
     "output_type": "stream",
     "text": [
      "-89\n"
     ]
    }
   ],
   "source": [
    "# min(list)\n",
    "# returns smallest integer in list\n",
    "\n",
    "numbers = [4, 5, 2, 199, -89]\n",
    "\n",
    "print(min(numbers))\n"
   ]
  },
  {
   "cell_type": "markdown",
   "metadata": {},
   "source": [
    "##### max()"
   ]
  },
  {
   "cell_type": "code",
   "execution_count": 62,
   "metadata": {},
   "outputs": [
    {
     "name": "stdout",
     "output_type": "stream",
     "text": [
      "199\n"
     ]
    }
   ],
   "source": [
    "# max(list)\n",
    "# returns largest integer in list\n",
    "\n",
    "numbers = [4, 5, 2, 199, -89]\n",
    "\n",
    "print(max(numbers))\n"
   ]
  },
  {
   "cell_type": "markdown",
   "metadata": {},
   "source": [
    "##### sum()"
   ]
  },
  {
   "cell_type": "code",
   "execution_count": 63,
   "metadata": {},
   "outputs": [
    {
     "name": "stdout",
     "output_type": "stream",
     "text": [
      "121\n"
     ]
    }
   ],
   "source": [
    "# sum(list)\n",
    "# returns sum of integers\n",
    "\n",
    "numbers = [4, 5, 2, 199, -89]\n",
    "\n",
    "print(sum(numbers))\n"
   ]
  },
  {
   "cell_type": "markdown",
   "metadata": {},
   "source": [
    "##### sorted()"
   ]
  },
  {
   "cell_type": "code",
   "execution_count": 66,
   "metadata": {},
   "outputs": [
    {
     "name": "stdout",
     "output_type": "stream",
     "text": [
      "[4, 5, 2, 199, -89]\n",
      "[-89, 2, 4, 5, 199]\n",
      "[4, 5, 2, 199, -89]\n"
     ]
    }
   ],
   "source": [
    "# sorted(list)\n",
    "# doesn't change original list\n",
    "# have to assign it to a new variable\n",
    "# use sorted when you don't want to alter original list\n",
    "\n",
    "numbers = [4, 5, 2, 199, -89]\n",
    "\n",
    "print(numbers)\n",
    "sorted_numbers = sorted(numbers)\n",
    "\n",
    "print(sorted_numbers)\n",
    "print(numbers)\n"
   ]
  },
  {
   "cell_type": "markdown",
   "metadata": {},
   "source": [
    "##### .sort() <br>\n",
    "<p>Difference between sort and sorted, is that sorted doesn't change original list it returns a copy, while .sort changes the original list</p>"
   ]
  },
  {
   "cell_type": "code",
   "execution_count": 70,
   "metadata": {},
   "outputs": [
    {
     "name": "stdout",
     "output_type": "stream",
     "text": [
      "original [4, 5, 2, 199, -89]\n",
      "sorted numbers are now stored into numbers, but will return, None\n",
      "they should stay sorted: [-89, 2, 4, 5, 199]\n"
     ]
    }
   ],
   "source": [
    "# list.sort()\n",
    "# use .sort() when you want to alter original list\n",
    "\n",
    "numbers = [4, 5, 2, 199, -89]\n",
    "\n",
    "print(f\"original {numbers}\")\n",
    "sort_numbers = numbers.sort()\n",
    "\n",
    "print(f\"sorted numbers are now stored into numbers, but will return, {sort_numbers}\")\n",
    "print(f\"they should stay sorted: {numbers}\")"
   ]
  },
  {
   "cell_type": "markdown",
   "metadata": {},
   "source": [
    "##### Copying a List"
   ]
  },
  {
   "cell_type": "code",
   "execution_count": 72,
   "metadata": {},
   "outputs": [
    {
     "name": "stdout",
     "output_type": "stream",
     "text": [
      "[4, 5, 2, 199, -89]\n"
     ]
    }
   ],
   "source": [
    "# [:] copies a list, doesn't alter original\n",
    "numbers = [4, 5, 2, 199, -89]\n",
    "\n",
    "list1 = numbers[:]\n",
    "print(list1)"
   ]
  },
  {
   "cell_type": "markdown",
   "metadata": {},
   "source": [
    "##### 'in' keyword"
   ]
  },
  {
   "cell_type": "code",
   "execution_count": 77,
   "metadata": {},
   "outputs": [
    {
     "name": "stdout",
     "output_type": "stream",
     "text": [
      "Not Found\n",
      "Found\n",
      "Found\n",
      "Found\n",
      "Not Found\n"
     ]
    }
   ],
   "source": [
    "l_trees = [\"Maple\", \"OakeD\", \"Doug Fir\", \"Dog Wood\", \"Magnolia\"]\n",
    "\n",
    "# if \"Pine\" in l_trees:\n",
    "#     print(\"That is a tree!\")\n",
    "# else:\n",
    "#     print(\"That may be a tree, but it's not in our database.\")\n",
    "\n",
    "\n",
    "for tree in l_trees:\n",
    "    if \"D\" in tree[0]:  #if the [0] wasn't there it would look for it in the entire string\n",
    "        print(\"Found\")\n",
    "    else:\n",
    "        print(\"Not Found\")\n",
    "        \n",
    "        \n",
    "# for tree in l_trees:\n",
    "#     if \"D\" in tree:  #will return found in OakeD, becuase it searches the entire string, not just the indexed positon.\n",
    "#         print(\"Found\")\n",
    "#     else:\n",
    "#         print(\"Not Found\")"
   ]
  },
  {
   "cell_type": "markdown",
   "metadata": {},
   "source": [
    "##### 'not in' keyword"
   ]
  },
  {
   "cell_type": "code",
   "execution_count": 78,
   "metadata": {},
   "outputs": [
    {
     "name": "stdout",
     "output_type": "stream",
     "text": [
      "That may be a tree, but it's not in our database\n"
     ]
    }
   ],
   "source": [
    "l_trees = [\"Maple\", \"OakeD\", \"Doug Fir\", \"Dog Wood\", \"Magnolia\"]\n",
    "\n",
    "if \"Banyan\" not in l_trees:\n",
    "    print(\"That may be a tree, but it's not in our database\")\n"
   ]
  },
  {
   "cell_type": "markdown",
   "metadata": {},
   "source": [
    "##### Checking an Empty List"
   ]
  },
  {
   "cell_type": "code",
   "execution_count": 79,
   "metadata": {},
   "outputs": [
    {
     "name": "stdout",
     "output_type": "stream",
     "text": [
      "This list is empty! =|\n"
     ]
    }
   ],
   "source": [
    "# if l_1: or if l_1 = []\n",
    "\n",
    "list_2 = []\n",
    "\n",
    "if list_2 == []:\n",
    "    print(\"This list is empty! =|\")"
   ]
  },
  {
   "cell_type": "markdown",
   "metadata": {},
   "source": [
    "##### Removing Instances with a Loop"
   ]
  },
  {
   "cell_type": "code",
   "execution_count": 83,
   "metadata": {},
   "outputs": [
    {
     "name": "stdout",
     "output_type": "stream",
     "text": [
      "['Charles', 'Dizzy', 'Thelonius', 'Sun', 'Charlie', 'Miles']\n"
     ]
    }
   ],
   "source": [
    "# while, remove\n",
    "\n",
    "names = [\"Charles\", \"Dizzy\", \"Thelonius\", \"Sun\", \"Sun\", \"Charlie\", \"Miles\"]\n",
    "\n",
    "# while \"Sun\" in names:     #WHILE LOOPS WILL RUN UNTIL IT GETS TO WHAT'S ASKED OF IT, THEN IT WILL RUN AGAIN UNTIL IT EITHER ENDS OR FINDS ANOTHER INSTANCE OF THE TASK AT HAND\n",
    "#     names.remove(\"Sun\")   #TAKES MORE ENERGY / IS SLOWER, BUT MORE THOROUGH\n",
    "# print(names)\n",
    "\n",
    "for name in names:\n",
    "    if name == \"Sun\":\n",
    "        names.remove(\"Sun\")  #THE FOR LOOP WILL MOVE THE INDEXED OBJECT TO THE INDEX THE OBJECT THAT WAS JUST REMOVED WAS JUST AT, SO IN THIS CASE SUN IS MOVED TO [3], WHICH SKIPS OVER THE DUPLICATE SUN AFTER THE OTHER FIRST ONE IS REMOVED.\n",
    "print(names)                 #QUICKER WAY TO RUN THE PROGRAM, BUT NOT AS THOROUGH"
   ]
  },
  {
   "cell_type": "markdown",
   "metadata": {},
   "source": [
    "### List Exercise <br>\n",
    "<p>Remove all duplicates<br><b>Extra: Create a program that will remove any duplicates from a given list</b></p>"
   ]
  },
  {
   "cell_type": "code",
   "execution_count": 108,
   "metadata": {},
   "outputs": [
    {
     "name": "stdout",
     "output_type": "stream",
     "text": [
      "New list after removing duplicates: ['connor', 'bob', 'evan', 'max', 2, 3, 4, 'kevin']\n"
     ]
    }
   ],
   "source": [
    "# Hint 1: You will need an append\n",
    "# Hint 2: Using an empty list will make life easier\n",
    "\n",
    "#DESIRED OUTPUT --- ['connor', 'bob', 'evan', 'max', 2, 3, 4, 'kevin']\n",
    "\n",
    "\n",
    "no_duplicate_list = []\n",
    "\n",
    "names = ['connor', 'connor', 'bob', 'connor', 'evan', 'max', 'evan', 2, 2, 2, 3, 3, 4, 'bob', 'kevin']\n",
    "\n",
    "for name in names:\n",
    "    \n",
    "    if name not in no_duplicate_list:\n",
    "        no_duplicate_list.append(name)\n",
    "    \n",
    "    else:\n",
    "        continue\n",
    "        \n",
    "print(f\"New list after removing duplicates: {no_duplicate_list}\")\n",
    "\n",
    "\n"
   ]
  },
  {
   "cell_type": "markdown",
   "metadata": {},
   "source": [
    "### List Comprehensions <br>\n",
    "<p>Creating a quickly generated list to work with<br>*result*  = [*transform*    *iteration*         *filter*     ]</p>"
   ]
  },
  {
   "cell_type": "markdown",
   "metadata": {},
   "source": [
    "##### In a list comprehension we have a few pieces:\n",
    "1. The first is the counter/ variable - IN this the variable is x\n",
    "2. then we have a transform for the variable\n",
    "3. The finale part of a list comp is called the condition\n",
    "\n",
    "```python\n",
    "    [transform, variable, condition]\n",
    "```"
   ]
  },
  {
   "cell_type": "code",
   "execution_count": null,
   "metadata": {},
   "outputs": [],
   "source": [
    "#COLOR COATED IMAGE IS AT 3:00 ON VIDEO 2.2\n",
    "# squares = []\n",
    "# for x in range(10):\n",
    "#     if(x%2 == 0):\n",
    "#         squares.append(x*x)\n",
    "    \n",
    "# square = [x*x for x in range(10) if x%2 == 0]\n",
    "\n",
    "# [(expression (x*x)) for )value(x)) in (collection(range(10)) if (condition(x%2 == 0))"
   ]
  },
  {
   "cell_type": "code",
   "execution_count": 116,
   "metadata": {},
   "outputs": [
    {
     "name": "stdout",
     "output_type": "stream",
     "text": [
      "[0, 4, 16, 36, 64, 100, 144, 196, 256, 324, 400, 484, 576, 676, 784, 900, 1024, 1156, 1296, 1444, 1600, 1764, 1936, 2116, 2304, 2500, 2704, 2916, 3136, 3364, 3600, 3844, 4096, 4356, 4624, 4900, 5184, 5476, 5776, 6084, 6400, 6724, 7056, 7396, 7744, 8100, 8464, 8836, 9216, 9604]\n",
      "\n",
      "\n",
      "[0, 4, 16, 36, 64, 100, 144, 196, 256, 324, 400, 484, 576, 676, 784, 900, 1024, 1156, 1296, 1444, 1600, 1764, 1936, 2116, 2304, 2500, 2704, 2916, 3136, 3364, 3600, 3844, 4096, 4356, 4624, 4900, 5184, 5476, 5776, 6084, 6400, 6724, 7056, 7396, 7744, 8100, 8464, 8836, 9216, 9604]\n"
     ]
    }
   ],
   "source": [
    "# number comprehension\n",
    "# With a regular for loop\n",
    "\n",
    "nums = []\n",
    "\n",
    "for i in range(100):\n",
    "    if i % 2 == 0:\n",
    "        nums.append(i**2)\n",
    "print(nums)\n",
    "\n",
    "print('\\n')\n",
    "\n",
    "#COMPREHENSION = FOR LOOP ABOVE\n",
    "nums_comp = [i**2 for i in range(100) if i % 2 == 0]\n",
    "        #  [expression for value in collection if condition]\n",
    "print(nums_comp)\n",
    "\n",
    "\n",
    "\n",
    "#[transform, variable, condition]\n",
    "\n",
    "\n",
    "\n"
   ]
  },
  {
   "cell_type": "markdown",
   "metadata": {},
   "source": [
    "There are a few benefits to using List comprehensions. The most obvious would be that we now have shorter code to work with instead of using 3+ lines of code in the for loop variant.\n",
    "\n",
    "Another is an added benefit to memory usage. Since the list's memory is allocated first before adding elements to it, we don't have to resize the list once we add elements to it.\n",
    "\n",
    "Lastly, list comprehensions are considered the \"pythonic\" way to write code by the PEP8 standards (Python Style Guide)"
   ]
  },
  {
   "cell_type": "code",
   "execution_count": 118,
   "metadata": {},
   "outputs": [
    {
     "name": "stdout",
     "output_type": "stream",
     "text": [
      "[0, 1, 4, 9, 16, 25, 36, 49, 64, 81]\n",
      "\n",
      "\n",
      "[0, 1, 4, 9, 16, 25, 36, 49, 64, 81]\n"
     ]
    }
   ],
   "source": [
    "# square number comprehension\n",
    "squares = [x**2 for x in range(10)]\n",
    "print(squares)\n",
    "\n",
    "\n",
    "print(\"\\n\")\n",
    "#squares the old way\n",
    "\n",
    "squares_reg = []\n",
    "for x in range(10):\n",
    "    squares_reg.append(x**2)\n",
    "print(squares_reg)"
   ]
  },
  {
   "cell_type": "code",
   "execution_count": 2,
   "metadata": {},
   "outputs": [
    {
     "name": "stdout",
     "output_type": "stream",
     "text": [
      "['C', 'M', 'E', 'R']\n",
      "\n",
      "\n",
      "['C', 'M', 'E', 'R']\n"
     ]
    }
   ],
   "source": [
    "# string comprehension\n",
    "names = [\"Conner\", \"Max\", \"Evan\", \"Rob\"]\n",
    "first_char_comp = [name[0] for name in names]\n",
    "print(first_char_comp)\n",
    "\n",
    "print(\"\\n\")\n",
    "\n",
    "first_char =[]\n",
    "for name in names:\n",
    "    first_char.append(name[0])\n",
    "print(first_char)"
   ]
  },
  {
   "cell_type": "code",
   "execution_count": 7,
   "metadata": {},
   "outputs": [
    {
     "name": "stdout",
     "output_type": "stream",
     "text": [
      "['Conner']\n",
      "\n",
      "\n",
      "['Conner']\n"
     ]
    }
   ],
   "source": [
    "#COMPREHENSION\n",
    "c_names = [first_name for first_name in names if first_name[0] == 'C']\n",
    "print(c_names)\n",
    "\n",
    "print(\"\\n\")\n",
    "\n",
    "#REGULAR WAY\n",
    "\n",
    "c_names = []\n",
    "for first_name in names:\n",
    "    if first_name[0] == \"C\":\n",
    "        c_names.append(first_name)\n",
    "print(c_names)"
   ]
  },
  {
   "cell_type": "code",
   "execution_count": null,
   "metadata": {},
   "outputs": [],
   "source": []
  },
  {
   "cell_type": "markdown",
   "metadata": {},
   "source": [
    "### Tuples <br>\n",
    "<p><b>Defined as an immutable list ---> can't be changed</b></p><br>Seperated by commas using parenthesis"
   ]
  },
  {
   "cell_type": "code",
   "execution_count": 23,
   "metadata": {},
   "outputs": [
    {
     "name": "stdout",
     "output_type": "stream",
     "text": [
      "You can index into a tuple: 1\n",
      "\n",
      "The length of Tup_1 is: 3\n",
      "\n",
      "Here's a loop over a tuple:\n",
      "1\n",
      "2\n",
      "3\n",
      "\n",
      "\n",
      "Here's a loop over a tuple using range and length:\n",
      "1\n",
      "2\n",
      "3\n",
      "\n",
      "\n"
     ]
    },
    {
     "ename": "AttributeError",
     "evalue": "'tuple' object has no attribute 'pop'",
     "output_type": "error",
     "traceback": [
      "\u001b[1;31m---------------------------------------------------------------------------\u001b[0m",
      "\u001b[1;31mAttributeError\u001b[0m                            Traceback (most recent call last)",
      "Input \u001b[1;32mIn [23]\u001b[0m, in \u001b[0;36m<cell line: 26>\u001b[1;34m()\u001b[0m\n\u001b[0;32m     25\u001b[0m \u001b[38;5;66;03m#TUPLES CANNOT BE POPPED, \u001b[39;00m\n\u001b[0;32m     26\u001b[0m \u001b[38;5;28;01mfor\u001b[39;00m number \u001b[38;5;129;01min\u001b[39;00m \u001b[38;5;28mrange\u001b[39m(\u001b[38;5;28mlen\u001b[39m(tup_1)):\n\u001b[1;32m---> 27\u001b[0m     popped_num \u001b[38;5;241m=\u001b[39m \u001b[43mtup_1\u001b[49m\u001b[38;5;241;43m.\u001b[39;49m\u001b[43mpop\u001b[49m()\n\u001b[0;32m     28\u001b[0m     \u001b[38;5;28mprint\u001b[39m(popped_num)\n",
      "\u001b[1;31mAttributeError\u001b[0m: 'tuple' object has no attribute 'pop'"
     ]
    }
   ],
   "source": [
    "tup_1 = 1, 2, 3    # FIRST WAY OF CREATING A TUPLE (NOT COMMON)\n",
    "tup_2 = (1, 2, 3)    # MORE COMMON WAY OF CREATING A TUPLE\n",
    "\n",
    "# print(type(tup_1))\n",
    "# print(type(tup_2))\n",
    "\n",
    "#INDEX INTO A TUPLE\n",
    "print(f\"You can index into a tuple: {tup_1[0]}\\n\")\n",
    "\n",
    "#LENGTH OF TUPLE\n",
    "print(f\"The length of Tup_1 is: {len(tup_1)}\\n\")\n",
    "\n",
    "#LOOP OVER TUPLE\n",
    "print(\"Here's a loop over a tuple:\")\n",
    "for number in tup_1:\n",
    "    print(number)\n",
    "print(\"\\n\")\n",
    "\n",
    "#LOOP OVER A TUPLE USING LEN AND RANGE:\n",
    "print(\"Here's a loop over a tuple using range and length:\")\n",
    "for number in range(len(tup_1)):\n",
    "    print(tup_1[number])\n",
    "print(\"\\n\")\n",
    "\n",
    "#TUPLES CANNOT BE POPPED, APPENDED, OR ANYTHING THAT CHANGES THE TUPLE\n",
    "for number in range(len(tup_1)):  \n",
    "    popped_num = tup_1.pop()          #THIS WILL THROW AN ERROR\n",
    "    print(popped_num)\n"
   ]
  },
  {
   "cell_type": "markdown",
   "metadata": {},
   "source": [
    "##### sorted()"
   ]
  },
  {
   "cell_type": "code",
   "execution_count": 25,
   "metadata": {},
   "outputs": [
    {
     "name": "stdout",
     "output_type": "stream",
     "text": [
      "[3, 20, 23, 39, 209, 333]\n",
      "(2, 3, 20, 23, 38, 39, 43, 57, 98, 209, 333)\n",
      "<class 'list'>\n",
      "(20, 3, 333, 23, 39, 209)\n"
     ]
    }
   ],
   "source": [
    "#WILL RETURN A LIST!\n",
    "\n",
    "tup_3 = (20, 3, 333, 23, 39, 209)\n",
    "\n",
    "sorted_tup = sorted(tup_3)  #converts tup_3 into a list, then returns the sorted numbers in the list (instead of Tuple)\n",
    "print(sorted_tup)\n",
    "\n",
    "random_list = [2, 43, 98, 38, 57]\n",
    "combine_list = sorted(sorted_tup + random_list)\n",
    "\n",
    "new_tup = tuple(combine_list)\n",
    "\n",
    "print(new_tup)             #shows tuple() will convert lists into tuple\n",
    "print(type(sorted_tup))    # the type of sorted_tup is list (so it can be modified)\n",
    "print(tup_3)               # shows tup_3 hasn't changed\n"
   ]
  },
  {
   "cell_type": "markdown",
   "metadata": {},
   "source": [
    "##### Adding values to a Tuple"
   ]
  },
  {
   "cell_type": "code",
   "execution_count": 32,
   "metadata": {},
   "outputs": [
    {
     "name": "stdout",
     "output_type": "stream",
     "text": [
      "(1, 2, 3, 3, 5, 5, 5, 5, 6, 7)\n",
      "(1, 2, 3, 3, 5, 5, 5, 5, 6, 7, 5)\n"
     ]
    }
   ],
   "source": [
    "# YOU CAN ADD VALUES TO TUPLE\n",
    "print(tup_1)\n",
    "\n",
    "tup_1 = tup_1 + (5,)    #DECLRAING A NEW VARIABLE (THAT HAPPENS TO HAVE THE SAME NAME). NEEDS VALUE, THEN COMMMA\n",
    "print(tup_1)            #OVERRIDING THE MEMORY OF THE VARIABLE"
   ]
  },
  {
   "cell_type": "markdown",
   "metadata": {},
   "source": [
    "## Functions"
   ]
  },
  {
   "cell_type": "markdown",
   "metadata": {},
   "source": [
    "##### User-Defined vs. Built-In Functions"
   ]
  },
  {
   "cell_type": "code",
   "execution_count": 34,
   "metadata": {},
   "outputs": [
    {
     "name": "stdout",
     "output_type": "stream",
     "text": [
      "Hello World\n"
     ]
    }
   ],
   "source": [
    "#USER DEFINED\n",
    "\n",
    "def sayHello():            #defines the function\n",
    "    return 'Hello World'\n",
    "\n",
    "sayHello()  #This runs (or calls) the function, which says to return 'Hello World', not print it.. we could print it (see below)\n",
    "print(sayHello()) #The function still runs, but it will show that it's just printed"
   ]
  },
  {
   "cell_type": "markdown",
   "metadata": {},
   "source": [
    "##### Accepting Parameters"
   ]
  },
  {
   "cell_type": "code",
   "execution_count": 39,
   "metadata": {},
   "outputs": [
    {
     "name": "stdout",
     "output_type": "stream",
     "text": [
      "What is your first name? Yoko\n",
      "What is your last name? Ono\n",
      "Hello, Adam Gorske\n",
      "Hello, Kailey Caldwell\n",
      "Hello, Yoko Ono\n"
     ]
    }
   ],
   "source": [
    "# ARGUEMENTS OR PARAMETERS (things that are put into parentheses)\n",
    "# ORDER MATTERS\n",
    "# A VARIABLE CAN BE OF ANY TYPE OF OBJECT\n",
    "\n",
    "def printFullName(first_name, last_name):\n",
    "    return f\"Hello, {first_name} {last_name}\"\n",
    "\n",
    "a_name = input(\"What is your first name? \")\n",
    "b_name = input(\"What is your last name? \")\n",
    "\n",
    "print(printFullName(\"Adam\", \"Gorske\"))\n",
    "print(printFullName(\"Kailey\", \"Caldwell\"))\n",
    "print(printFullName(a_name, b_name))"
   ]
  },
  {
   "cell_type": "markdown",
   "metadata": {},
   "source": [
    "##### Default Parameters"
   ]
  },
  {
   "cell_type": "code",
   "execution_count": 41,
   "metadata": {},
   "outputs": [
    {
     "ename": "SyntaxError",
     "evalue": "non-default argument follows default argument (413490780.py, line 10)",
     "output_type": "error",
     "traceback": [
      "\u001b[1;36m  Input \u001b[1;32mIn [41]\u001b[1;36m\u001b[0m\n\u001b[1;33m    def printAgentName(last_name = \"Bond\", first_name):\u001b[0m\n\u001b[1;37m                                                     ^\u001b[0m\n\u001b[1;31mSyntaxError\u001b[0m\u001b[1;31m:\u001b[0m non-default argument follows default argument\n"
     ]
    }
   ],
   "source": [
    "# DEFAULT PARAMETERS NEED TO BE DECLARED AFTER NON-DEFAULT PARAMETERS EACH TIME\n",
    "\n",
    "def printAgentName(first_name, last_name = \"Bond\"):\n",
    "    return f\"The name is {last_name}, {first_name} {last_name}.\"\n",
    "\n",
    "print(printAgentName(\"James\"))\n",
    "\n",
    "\n",
    "#DON'T DO THIS! (HAVE THE DEFUALT BEFORE THE NON-DEFAULT)\n",
    "# def printAgentName(last_name = \"Bond\", first_name):\n",
    "#     return f\"The name is {last_name}, {first_name} {last_name}.\"\n",
    "\n",
    "# print(printAgentName(\"James\"))\n"
   ]
  },
  {
   "cell_type": "markdown",
   "metadata": {},
   "source": [
    "##### Making an Argument Optional"
   ]
  },
  {
   "cell_type": "code",
   "execution_count": 47,
   "metadata": {},
   "outputs": [
    {
     "name": "stdout",
     "output_type": "stream",
     "text": [
      "Hello, Mr.  Ed.\n",
      "Hello, Mr. Horse Face Ed.\n",
      "Hello, Mr.  Override.\n"
     ]
    }
   ],
   "source": [
    "def printHorseName(first, middle = '', last ='Ed'):   #using = '' will make it an optional argument (it can be called, but doesn't need to be)\n",
    "    return f'Hello, {first} {middle} {last}.'\n",
    "\n",
    "print(printHorseName(\"Mr.\")) #Only Mr. Ed (and skips over middle name)\n",
    "print(printHorseName(\"Mr.\", \"Horse Face\"))  #runs Mr. and Horse Face (for middle name)\n",
    "print(printHorseName(\"Mr.\", \"\", \"Override\"))  #You can use an empty string, putting in an argument will override the default argument\n"
   ]
  },
  {
   "cell_type": "markdown",
   "metadata": {},
   "source": [
    "##### Keyword Arguments"
   ]
  },
  {
   "cell_type": "code",
   "execution_count": 52,
   "metadata": {},
   "outputs": [
    {
     "name": "stdout",
     "output_type": "stream",
     "text": [
      "Hero's name is Superman and superpower is flying.\n",
      "Hero's name is Dr. Manhattan and superpower is all knowing.\n"
     ]
    }
   ],
   "source": [
    "def printSuperHero(name, power=\"flying\"):\n",
    "    return f\"Hero's name is {name} and superpower is {power}.\"\n",
    "\n",
    "print(printSuperHero('Superman'))   #will run like normal\n",
    "print(printSuperHero(power = \"all knowing\", name = \"Dr. Manhattan\"))  #overrides so you can move aruments around"
   ]
  },
  {
   "cell_type": "markdown",
   "metadata": {},
   "source": [
    "# Creating a start, stop, step function"
   ]
  },
  {
   "cell_type": "code",
   "execution_count": 64,
   "metadata": {},
   "outputs": [
    {
     "name": "stdout",
     "output_type": "stream",
     "text": [
      "20\n",
      "22\n",
      "24\n",
      "26\n",
      "28\n",
      "30\n",
      "32\n",
      "34\n",
      "36\n",
      "38\n",
      "40\n",
      "42\n",
      "44\n",
      "46\n",
      "48\n",
      "50\n"
     ]
    }
   ],
   "source": [
    "def my_range(stop, start = 0, step=1):   #start and step have to be after stop because they are default\n",
    "    for i in range(start,stop,step):\n",
    "        print(i)\n",
    "        \n",
    "my_range(52, 20, 2)  #starts at 20, goes up to 50 by 2\n"
   ]
  },
  {
   "cell_type": "markdown",
   "metadata": {},
   "source": [
    "##### Returning Values"
   ]
  },
  {
   "cell_type": "code",
   "execution_count": 65,
   "metadata": {},
   "outputs": [
    {
     "data": {
      "text/plain": [
       "7"
      ]
     },
     "execution_count": 65,
     "metadata": {},
     "output_type": "execute_result"
    }
   ],
   "source": [
    "def addNums(num1, num2):\n",
    "    return num1 + num2\n",
    "\n",
    "addNums(5,2)"
   ]
  },
  {
   "cell_type": "markdown",
   "metadata": {},
   "source": [
    "##### *args"
   ]
  },
  {
   "cell_type": "code",
   "execution_count": 69,
   "metadata": {},
   "outputs": [
    {
     "name": "stdout",
     "output_type": "stream",
     "text": [
      "36\n",
      "('Dragonzword', 'vanilla', 2, 3)\n",
      "{'testing': 'joel'}\n",
      "Dragonzword\n",
      "vanilla\n",
      "2\n",
      "3\n",
      "testing\n"
     ]
    }
   ],
   "source": [
    "# args stands for arguments and takes ANY number of arguemtns as parameters\n",
    "# must be last if multiple parameters are present\n",
    "\n",
    "def printArgs(num1, *args, **kwargs):\n",
    "    print(num1)\n",
    "    print(args)\n",
    "    print(kwargs)\n",
    "    \n",
    "    for arg in args:\n",
    "        print(arg)\n",
    "        \n",
    "    for kwarg in kwargs:\n",
    "        print(kwarg)\n",
    "    \n",
    "printArgs(36, 'Dragonzword', 'vanilla', 2, 3, testing = \"joel\")\n",
    "            # | args -----------------------|| --kwargs------|"
   ]
  },
  {
   "cell_type": "markdown",
   "metadata": {},
   "source": [
    "##### Docstring"
   ]
  },
  {
   "cell_type": "code",
   "execution_count": 71,
   "metadata": {},
   "outputs": [
    {
     "name": "stdout",
     "output_type": "stream",
     "text": [
      "Jacque\n",
      "Jack\n",
      "Jock\n",
      "Help on function printNames in module __main__:\n",
      "\n",
      "printNames(list_1)\n",
      "    Function requires a list to be passed as a parameter\n",
      "    and will print the contents of the list. Expecting a list of\n",
      "    name(strings) to be passed\n",
      "\n"
     ]
    }
   ],
   "source": [
    "def printNames(list_1):\n",
    "    '''\n",
    "        Function requires a list to be passed as a parameter\n",
    "        and will print the contents of the list. Expecting a list of\n",
    "        name(strings) to be passed\n",
    "    '''\n",
    "    for name in list_1:\n",
    "        print(name)\n",
    "    \n",
    "printNames([\"Jacque\", \"Jack\", \"Jock\"])\n",
    "help(printNames)"
   ]
  },
  {
   "cell_type": "markdown",
   "metadata": {},
   "source": [
    "##### Using a User Function in a Loop"
   ]
  },
  {
   "cell_type": "code",
   "execution_count": 1,
   "metadata": {},
   "outputs": [
    {
     "name": "stdout",
     "output_type": "stream",
     "text": [
      "Are you ready to quit? no\n",
      "What do you want to do? nothing\n",
      "nothing\n",
      "Ready yet? quit\n"
     ]
    }
   ],
   "source": [
    "def printInput(answer):\n",
    "    print(answer)\n",
    "    \n",
    "response = input(\"Are you ready to quit? \")\n",
    "\n",
    "while True:\n",
    "    ask = input(\"What do you want to do? \")\n",
    "    printInput(ask)                         #this will print the input, instead of the answer\n",
    "    \n",
    "    response = input(\"Ready yet? \")\n",
    "    if response.lower() == 'quit':\n",
    "        break"
   ]
  },
  {
   "cell_type": "markdown",
   "metadata": {},
   "source": [
    "## Function Exercise <br>\n",
    "<p>Write a function that loops through a list of first_names and a list of last_names, combines the two and return a list of full_names</p>"
   ]
  },
  {
   "cell_type": "code",
   "execution_count": 126,
   "metadata": {},
   "outputs": [
    {
     "name": "stdout",
     "output_type": "stream",
     "text": [
      "John Smith\n",
      "Evan Smith\n",
      "Jordan Williams\n",
      "Max Bell\n"
     ]
    }
   ],
   "source": [
    "#loop through list of first names and last names\n",
    "#\n",
    "\n",
    "# first_name = ['John', 'Evan', 'Jordan', 'Max']\n",
    "# last_name = ['Smith', 'Smith', 'Williams', 'Bell']\n",
    "\n",
    "\n",
    "\n",
    "def full_name(first, last):\n",
    "    for name in range(len(first)):\n",
    "        print(first[name], last[name])\n",
    "    \n",
    "\n",
    "full_name(['John', 'Evan', 'Jordan', 'Max'], ['Smith', 'Smith', 'Williams', 'Bell'])\n",
    "# Output: ['John Smith', 'Evan Smith', 'Jordan Williams', 'Max Bell']\n"
   ]
  },
  {
   "cell_type": "markdown",
   "metadata": {},
   "source": [
    "## Scope <br>\n",
    "<p>Scope refers to the ability to access variables, different types of scope include:<br>a) Global<br>b) Function (local)<br>c) Class (local) -- not covered yet</p>"
   ]
  },
  {
   "cell_type": "code",
   "execution_count": 128,
   "metadata": {},
   "outputs": [
    {
     "name": "stdout",
     "output_type": "stream",
     "text": [
      "7\n",
      "10\n"
     ]
    }
   ],
   "source": [
    "number = 3 # GLOBAL VARIABLE; ACCESSIBLE ANYWHERE IN CODE\n",
    "\n",
    "def myFunc():\n",
    "    number = 6 #LOCAL FUNCTION VARIABLE\n",
    "    number += 4\n",
    "    return number\n",
    "\n",
    "print(number + 4)\n",
    "print(myFunc())"
   ]
  },
  {
   "cell_type": "markdown",
   "metadata": {},
   "source": [
    "# Exercises"
   ]
  },
  {
   "cell_type": "markdown",
   "metadata": {},
   "source": [
    "## Exercise 1 <br>\n",
    "<p>Given a list as a parameter,write a function that returns a list of numbers that are less than ten</b></i></p><br>\n",
    "<p> For example: Say your input parameter to the function is [1,11,14,5,8,9]...Your output should [1,5,8,9]</p>"
   ]
  },
  {
   "cell_type": "code",
   "execution_count": 17,
   "metadata": {},
   "outputs": [
    {
     "data": {
      "text/plain": [
       "[1, 5, 8, 9]"
      ]
     },
     "execution_count": 17,
     "metadata": {},
     "output_type": "execute_result"
    }
   ],
   "source": [
    "#look through each number and if it's less than 10, pass it on\n",
    "#if it's more than 10, skip over it\n",
    "\n",
    "# .....WAY 1......\n",
    "\n",
    "def less_than_ten(nums):\n",
    "    less_ten_list = []\n",
    "    for num in nums:\n",
    "        if num >= 10:\n",
    "            continue\n",
    "        \n",
    "        else:\n",
    "            less_ten_list.append(num)\n",
    "    return(less_ten_list)\n",
    "\n",
    "\n",
    "less_than_ten([1,11,14,5,8,9])\n"
   ]
  },
  {
   "cell_type": "code",
   "execution_count": 3,
   "metadata": {},
   "outputs": [
    {
     "data": {
      "text/plain": [
       "[1, 5, 8, 9]"
      ]
     },
     "execution_count": 3,
     "metadata": {},
     "output_type": "execute_result"
    }
   ],
   "source": [
    "# ......WAY 2.......\n",
    "\n",
    "def l_1(list_o_nums):\n",
    "    new_list = []\n",
    "    \n",
    "    for i in list_o_nums:\n",
    "        if i < 10:\n",
    "            new_list.append(i)\n",
    "        else:\n",
    "            continue\n",
    "    return new_list\n",
    "\n",
    "l_1([1,11,14,5,8,9])\n"
   ]
  },
  {
   "cell_type": "code",
   "execution_count": null,
   "metadata": {},
   "outputs": [],
   "source": [
    "#..... WAY 3 .......\n",
    "\n",
    "def l_1(list_of_nums):\n",
    "    list_of_nums = [i for i in list_of_nums if i < 10]\n",
    "    print(list_of_nums)\n",
    "    \n",
    "l_1([1,11,14,5,8,9])"
   ]
  },
  {
   "cell_type": "markdown",
   "metadata": {},
   "source": [
    "## Exercise 2 <br>\n",
    "<p>Write a function that takes in two lists and returns the two lists merged together and sorted<br>\n",
    "<b><i>Hint: You can use the .sort() method</i></b></p>"
   ]
  },
  {
   "cell_type": "code",
   "execution_count": 2,
   "metadata": {},
   "outputs": [
    {
     "name": "stdout",
     "output_type": "stream",
     "text": [
      "[1, 2, 3, 3, 4, 4, 5, 5, 6, 6, 7, 8, 10]\n"
     ]
    }
   ],
   "source": [
    "# function must concatenate two lists togetether\n",
    "# The function will be defined and have room for 2 arguments\n",
    "# There will have to be an empty list for the concatenated list to go into \n",
    "# It will then take two arguments and concatenate them\n",
    "# With the list concatenated it will append them to the new list\n",
    "# With the new list created it will then sort them\n",
    "# Then, it will retrun the merged and ordered list\n",
    "\n",
    "\n",
    "def sorted_list(l_1, l_2):\n",
    "    new_list = (l_1 + l_2)\n",
    "    new_list.sort()\n",
    "    print(new_list)\n",
    "\n",
    "\n",
    "sorted_list([1,2,3,4,5,6], [3,4,5,6,7,8,10])\n",
    "\n",
    "\n"
   ]
  },
  {
   "cell_type": "code",
   "execution_count": null,
   "metadata": {},
   "outputs": [],
   "source": []
  },
  {
   "cell_type": "code",
   "execution_count": null,
   "metadata": {},
   "outputs": [],
   "source": []
  },
  {
   "cell_type": "code",
   "execution_count": null,
   "metadata": {},
   "outputs": [],
   "source": []
  },
  {
   "cell_type": "code",
   "execution_count": null,
   "metadata": {
    "scrolled": true
   },
   "outputs": [],
   "source": []
  },
  {
   "cell_type": "code",
   "execution_count": null,
   "metadata": {},
   "outputs": [],
   "source": []
  },
  {
   "cell_type": "code",
   "execution_count": null,
   "metadata": {},
   "outputs": [],
   "source": []
  },
  {
   "cell_type": "code",
   "execution_count": null,
   "metadata": {},
   "outputs": [],
   "source": []
  }
 ],
 "metadata": {
  "kernelspec": {
   "display_name": "Python 3 (ipykernel)",
   "language": "python",
   "name": "python3"
  },
  "language_info": {
   "codemirror_mode": {
    "name": "ipython",
    "version": 3
   },
   "file_extension": ".py",
   "mimetype": "text/x-python",
   "name": "python",
   "nbconvert_exporter": "python",
   "pygments_lexer": "ipython3",
   "version": "3.9.7"
  }
 },
 "nbformat": 4,
 "nbformat_minor": 2
}
